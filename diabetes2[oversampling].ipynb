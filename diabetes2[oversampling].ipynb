{
 "cells": [
  {
   "cell_type": "code",
   "execution_count": 2,
   "id": "98d6e32e",
   "metadata": {},
   "outputs": [],
   "source": [
    "#OVERSAMPLING\n",
    "import pandas as pd\n",
    "from sklearn.tree import DecisionTreeClassifier\n",
    "from sklearn.model_selection import train_test_split\n",
    "from sklearn import metrics"
   ]
  },
  {
   "cell_type": "code",
   "execution_count": 3,
   "id": "50b39c87",
   "metadata": {},
   "outputs": [],
   "source": [
    "# Load dataset\n",
    "col_names = ['pregnant','glucose','bp','skin','insulin','bmi','pedigree','age','label']\n",
    "pima = pd.read_csv(\"diabetes.csv\", header=None, names=col_names)\n",
    "pima = pima.tail(-1)"
   ]
  },
  {
   "cell_type": "code",
   "execution_count": 4,
   "id": "fb272ddb",
   "metadata": {},
   "outputs": [],
   "source": [
    "# Split dataset into features and target variable\n",
    "feature_cols = ['pregnant', 'insulin', 'bmi', 'age','glucose','bp','pedigree']\n",
    "X = pima[feature_cols] # Features\n",
    "y = pima.label # Target variable"
   ]
  },
  {
   "cell_type": "code",
   "execution_count": 5,
   "id": "c4c69573",
   "metadata": {},
   "outputs": [],
   "source": [
    "# Split dataset into training set and test set\n",
    "X_train, X_test, y_train, y_test = train_test_split(X, y, test_size=0.3, random_state=1) # 70% training and 30% test"
   ]
  },
  {
   "cell_type": "code",
   "execution_count": 6,
   "id": "a5bd8c6b",
   "metadata": {
    "scrolled": true
   },
   "outputs": [],
   "source": [
    "# Duplicate instances from the minority class\n",
    "minority_class = pd.concat([X_train, y_train], axis=1)[pd.concat([X_train, y_train], axis=1)['label'] == 1]\n",
    "\n",
    "# Check if the number of available samples is greater than the desired sample size\n",
    "if len(minority_class) < 500:\n",
    "    oversampled_minority_class = minority_class.sample(n=len(minority_class), replace=True, random_state=42)\n",
    "else:\n",
    "    oversampled_minority_class = minority_class.sample(n=500, replace=True, random_state=42)\n",
    "\n",
    "X_train_dup = pd.concat([X_train, oversampled_minority_class.drop('label', axis=1)])\n",
    "y_train_dup = pd.concat([y_train, oversampled_minority_class['label']])"
   ]
  },
  {
   "cell_type": "code",
   "execution_count": 7,
   "id": "14049d6a",
   "metadata": {},
   "outputs": [],
   "source": [
    "# Create Decision Tree classifier object\n",
    "clf = DecisionTreeClassifier()"
   ]
  },
  {
   "cell_type": "code",
   "execution_count": 8,
   "id": "5544fe17",
   "metadata": {},
   "outputs": [],
   "source": [
    "# Train Decision Tree classifier\n",
    "clf = clf.fit(X_train_dup, y_train_dup)"
   ]
  },
  {
   "cell_type": "code",
   "execution_count": 9,
   "id": "33c48b6d",
   "metadata": {},
   "outputs": [],
   "source": [
    "# Predict the response for test dataset\n",
    "y_pred = clf.predict(X_test)"
   ]
  },
  {
   "cell_type": "code",
   "execution_count": 10,
   "id": "900d61ef",
   "metadata": {},
   "outputs": [
    {
     "name": "stdout",
     "output_type": "stream",
     "text": [
      "Duplication Accuracy: 0.658008658008658\n",
      "Duplication Classification Report:\n",
      "              precision    recall  f1-score   support\n",
      "\n",
      "           0       0.71      0.77      0.74       146\n",
      "           1       0.54      0.46      0.50        85\n",
      "\n",
      "    accuracy                           0.66       231\n",
      "   macro avg       0.63      0.62      0.62       231\n",
      "weighted avg       0.65      0.66      0.65       231\n",
      "\n"
     ]
    }
   ],
   "source": [
    "# Model Accuracy\n",
    "print(\"Duplication Accuracy:\", metrics.accuracy_score(y_test, y_pred))\n",
    "# Print classification report\n",
    "print(\"Duplication Classification Report:\")\n",
    "print(metrics.classification_report(y_test, y_pred))"
   ]
  },
  {
   "cell_type": "code",
   "execution_count": null,
   "id": "2c7da98b",
   "metadata": {},
   "outputs": [],
   "source": []
  }
 ],
 "metadata": {
  "kernelspec": {
   "display_name": "Python 3 (ipykernel)",
   "language": "python",
   "name": "python3"
  },
  "language_info": {
   "codemirror_mode": {
    "name": "ipython",
    "version": 3
   },
   "file_extension": ".py",
   "mimetype": "text/x-python",
   "name": "python",
   "nbconvert_exporter": "python",
   "pygments_lexer": "ipython3",
   "version": "3.11.4"
  }
 },
 "nbformat": 4,
 "nbformat_minor": 5
}
